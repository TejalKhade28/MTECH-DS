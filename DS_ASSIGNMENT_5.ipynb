{
 "cells": [
  {
   "cell_type": "markdown",
   "id": "7391fbf7",
   "metadata": {},
   "source": [
    "# 1D array without numpy"
   ]
  },
  {
   "cell_type": "code",
   "execution_count": 5,
   "id": "3484801c",
   "metadata": {},
   "outputs": [
    {
     "name": "stdout",
     "output_type": "stream",
     "text": [
      "[15, 30, 66, 70, 21, 61, 45, 55, 52, 77, 76, 57, 98, 90, 22, 17, 64, 26, 5, 97]\n"
     ]
    }
   ],
   "source": [
    "import random\n",
    "\n",
    "# Create a 1D array with random numbers\n",
    "n = 20  \n",
    "array_1d = [random.randint(1, 100) for _ in range(n)]\n",
    "print(array_1d)\n"
   ]
  },
  {
   "cell_type": "markdown",
   "id": "74d6ef0d",
   "metadata": {},
   "source": [
    "# 1D array with numpy"
   ]
  },
  {
   "cell_type": "code",
   "execution_count": 6,
   "id": "268cdfdb",
   "metadata": {},
   "outputs": [
    {
     "name": "stdout",
     "output_type": "stream",
     "text": [
      "[84 24 99 91 27 61  4 32 39 86 30 94 51 88 90 24 11 32 26 97]\n"
     ]
    }
   ],
   "source": [
    "import numpy as np\n",
    "\n",
    "# Create a 1D NumPy array with random numbers\n",
    "n = 20  \n",
    "array_1d = np.random.randint(1, 100, n)\n",
    "print(array_1d)\n"
   ]
  },
  {
   "cell_type": "markdown",
   "id": "c495fc94",
   "metadata": {},
   "source": [
    "# 2D array without numpy"
   ]
  },
  {
   "cell_type": "code",
   "execution_count": 7,
   "id": "fbbd2a3d",
   "metadata": {},
   "outputs": [
    {
     "name": "stdout",
     "output_type": "stream",
     "text": [
      "[64, 81, 57, 39, 22]\n",
      "[74, 19, 40, 52, 76]\n",
      "[63, 70, 71, 3, 73]\n",
      "[56, 28, 5, 19, 29]\n",
      "[53, 29, 20, 87, 73]\n"
     ]
    }
   ],
   "source": [
    "import random\n",
    "\n",
    "# Define the dimensions of the 2D array\n",
    "rows = 5\n",
    "cols = 5\n",
    "\n",
    "# Create a 2D array with random numbers\n",
    "array_2d = [[random.randint(1, 100) for _ in range(cols)] for _ in range(rows)]\n",
    "for row in array_2d:\n",
    "    print(row)\n"
   ]
  },
  {
   "cell_type": "markdown",
   "id": "9d6d0a66",
   "metadata": {},
   "source": [
    "# 2D array with numpy"
   ]
  },
  {
   "cell_type": "code",
   "execution_count": 8,
   "id": "f471313e",
   "metadata": {},
   "outputs": [
    {
     "name": "stdout",
     "output_type": "stream",
     "text": [
      "[[36 49 34 25 10]\n",
      " [37 96 91 22 89]\n",
      " [96 69 65 66 85]\n",
      " [ 8 69 38 27 42]]\n"
     ]
    }
   ],
   "source": [
    "import numpy as np\n",
    "\n",
    "# Define the dimensions of the 2D array\n",
    "rows = 4\n",
    "cols = 5\n",
    "\n",
    "# Create a 2D NumPy array with random numbers\n",
    "array_2d = np.random.randint(1, 100, size=(rows, cols))\n",
    "print(array_2d)"
   ]
  },
  {
   "cell_type": "markdown",
   "id": "c57787f5",
   "metadata": {},
   "source": [
    "# Functions related to array computation using numpy"
   ]
  },
  {
   "cell_type": "code",
   "execution_count": 9,
   "id": "ed09d943",
   "metadata": {},
   "outputs": [
    {
     "name": "stdout",
     "output_type": "stream",
     "text": [
      "Original Array 1: [10 20 30 40 50]\n",
      "Original Array 2: [50 40 30 20 10]\n"
     ]
    }
   ],
   "source": [
    "import numpy as np\n",
    "\n",
    "# Create two example arrays\n",
    "array1 = np.array([10, 20, 30, 40, 50])\n",
    "array2 = np.array([50, 40, 30, 20, 10])\n",
    "\n",
    "# Display the original arrays\n",
    "print(\"Original Array 1:\", array1)\n",
    "print(\"Original Array 2:\", array2)"
   ]
  },
  {
   "cell_type": "code",
   "execution_count": 14,
   "id": "26981d1d",
   "metadata": {},
   "outputs": [
    {
     "name": "stdout",
     "output_type": "stream",
     "text": [
      "\n",
      "Basic Array Operations:\n",
      "Addition: [60 60 60 60 60]\n",
      "Subtraction: [-40 -20   0  20  40]\n",
      "Multiplication: [500 800 900 800 500]\n",
      "Division: [0.2 0.5 1.  2.  5. ]\n",
      "Division: [0 0 1 2 5]\n"
     ]
    }
   ],
   "source": [
    "# Basic Array Operations\n",
    "print(\"\\nBasic Array Operations:\")\n",
    "print(\"Addition:\", array1 + array2)\n",
    "print(\"Subtraction:\", array1 - array2)\n",
    "print(\"Multiplication:\", array1 * array2)\n",
    "print(\"Division:\", array1 / array2)\n",
    "print(\"Floor Division:\", array1 // array2)"
   ]
  },
  {
   "cell_type": "code",
   "execution_count": 16,
   "id": "9e773a13",
   "metadata": {},
   "outputs": [
    {
     "name": "stdout",
     "output_type": "stream",
     "text": [
      "\n",
      "Aggregation Functions:\n",
      "Sum of Array 1: 150\n",
      "Mean of Array 2: 30.0\n",
      "Maximum in Array 1: 50\n",
      "Minimum in Array 2: 10\n"
     ]
    }
   ],
   "source": [
    "# Aggregation Functions\n",
    "print(\"\\nAggregation Functions:\")\n",
    "print(\"Sum of Array 1:\", np.sum(array1))\n",
    "print(\"Mean of Array 2:\", np.mean(array2))\n",
    "print(\"Maximum in Array 1:\", np.max(array1))\n",
    "print(\"Minimum in Array 2:\", np.min(array2))"
   ]
  },
  {
   "cell_type": "code",
   "execution_count": 17,
   "id": "d03c31d6",
   "metadata": {},
   "outputs": [
    {
     "name": "stdout",
     "output_type": "stream",
     "text": [
      "\n",
      "Trigonometric Functions:\n",
      "Sine of Array 1: [-0.54402111  0.91294525 -0.98803162  0.74511316 -0.26237485]\n",
      "Cosine of Array 2: [ 0.96496603 -0.66693806  0.15425145  0.40808206 -0.83907153]\n"
     ]
    }
   ],
   "source": [
    "# Trigonometric Functions\n",
    "print(\"\\nTrigonometric Functions:\")\n",
    "print(\"Sine of Array 1:\", np.sin(array1))\n",
    "print(\"Cosine of Array 2:\", np.cos(array2))\n"
   ]
  },
  {
   "cell_type": "code",
   "execution_count": 18,
   "id": "ba9dfc2f",
   "metadata": {},
   "outputs": [
    {
     "name": "stdout",
     "output_type": "stream",
     "text": [
      "\n",
      "Array Comparison:\n",
      "Greater Than: [False False False  True  True]\n",
      "Less Than or Equal To: [ True  True  True False False]\n"
     ]
    }
   ],
   "source": [
    "# Array Comparison\n",
    "print(\"\\nArray Comparison:\")\n",
    "print(\"Greater Than:\", array1 > array2)\n",
    "print(\"Less Than or Equal To:\", array1 <= array2)"
   ]
  },
  {
   "cell_type": "code",
   "execution_count": 19,
   "id": "af43f380",
   "metadata": {},
   "outputs": [
    {
     "name": "stdout",
     "output_type": "stream",
     "text": [
      "\n",
      "Reshaped Array:\n",
      "[[ 0  1  2  3  4]\n",
      " [ 5  6  7  8  9]\n",
      " [10 11 12 13 14]]\n"
     ]
    }
   ],
   "source": [
    "# Reshaping Arrays\n",
    "array3 = np.arange(15).reshape(3, 5)\n",
    "print(\"\\nReshaped Array:\")\n",
    "print(array3)"
   ]
  },
  {
   "cell_type": "code",
   "execution_count": 20,
   "id": "f3edeeea",
   "metadata": {},
   "outputs": [
    {
     "name": "stdout",
     "output_type": "stream",
     "text": [
      "\n",
      "Transposed Array:\n",
      "[[ 0  5 10]\n",
      " [ 1  6 11]\n",
      " [ 2  7 12]\n",
      " [ 3  8 13]\n",
      " [ 4  9 14]]\n"
     ]
    }
   ],
   "source": [
    "# Transpose\n",
    "array4 = array3.T\n",
    "print(\"\\nTransposed Array:\")\n",
    "print(array4)\n"
   ]
  },
  {
   "cell_type": "code",
   "execution_count": 21,
   "id": "43d1ef04",
   "metadata": {},
   "outputs": [
    {
     "name": "stdout",
     "output_type": "stream",
     "text": [
      "\n",
      "Matrix Multiplication Result:\n",
      "[[19 22]\n",
      " [43 50]]\n"
     ]
    }
   ],
   "source": [
    "\n",
    "# Matrix Multiplication\n",
    "matrix1 = np.array([[1, 2], [3, 4]])\n",
    "matrix2 = np.array([[5, 6], [7, 8]])\n",
    "result_matrix = np.dot(matrix1, matrix2)\n",
    "print(\"\\nMatrix Multiplication Result:\")\n",
    "print(result_matrix)\n"
   ]
  },
  {
   "cell_type": "code",
   "execution_count": 23,
   "id": "d24cf588",
   "metadata": {},
   "outputs": [
    {
     "name": "stdout",
     "output_type": "stream",
     "text": [
      "\n",
      "Indexing and Slicing:\n",
      "Element at index 2: 30\n",
      "First three elements: [10 20 30]\n",
      "Elements at even indices: [10 30 50]\n"
     ]
    }
   ],
   "source": [
    "# Indexing and Slicing\n",
    "print(\"\\nIndexing and Slicing:\")\n",
    "print(\"Element at index 2:\", array1[2])\n",
    "print(\"First three elements:\", array1[:3])\n",
    "print(\"Elements at even indices:\", array1[::2])\n",
    "\n"
   ]
  },
  {
   "cell_type": "code",
   "execution_count": 25,
   "id": "71e3e2e7",
   "metadata": {},
   "outputs": [
    {
     "name": "stdout",
     "output_type": "stream",
     "text": [
      "\n",
      "Filtered Array (Elements > 3):\n",
      "[40 50]\n"
     ]
    }
   ],
   "source": [
    "# Boolean Indexing\n",
    "bool_array = array1 > 30\n",
    "filtered_array = array1[bool_array]\n",
    "print(\"\\nFiltered Array (Elements > 30):\")\n",
    "print(filtered_array)\n"
   ]
  }
 ],
 "metadata": {
  "kernelspec": {
   "display_name": "Python 3",
   "language": "python",
   "name": "python3"
  },
  "language_info": {
   "codemirror_mode": {
    "name": "ipython",
    "version": 3
   },
   "file_extension": ".py",
   "mimetype": "text/x-python",
   "name": "python",
   "nbconvert_exporter": "python",
   "pygments_lexer": "ipython3",
   "version": "3.8.3"
  }
 },
 "nbformat": 4,
 "nbformat_minor": 5
}
