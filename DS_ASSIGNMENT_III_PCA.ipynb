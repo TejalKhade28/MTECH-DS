{
 "cells": [
  {
   "cell_type": "markdown",
   "metadata": {},
   "source": [
    "# Principal Component Analysis"
   ]
  },
  {
   "cell_type": "markdown",
   "metadata": {},
   "source": [
    "## Libraries"
   ]
  },
  {
   "cell_type": "code",
   "execution_count": 1,
   "metadata": {},
   "outputs": [
    {
     "name": "stderr",
     "output_type": "stream",
     "text": [
      "C:\\Users\\Admin\\anaconda3\\lib\\site-packages\\pandas\\core\\computation\\expressions.py:20: UserWarning: Pandas requires version '2.7.3' or newer of 'numexpr' (version '2.7.1' currently installed).\n",
      "  from pandas.core.computation.check import NUMEXPR_INSTALLED\n"
     ]
    }
   ],
   "source": [
    "import matplotlib.pyplot as plt\n",
    "import pandas as pd\n",
    "import numpy as np\n",
    "import seaborn as sns\n",
    "%matplotlib inline"
   ]
  },
  {
   "cell_type": "markdown",
   "metadata": {},
   "source": [
    "## Loading the Data\n"
   ]
  },
  {
   "cell_type": "code",
   "execution_count": 2,
   "metadata": {},
   "outputs": [],
   "source": [
    "from sklearn.datasets import load_breast_cancer"
   ]
  },
  {
   "cell_type": "code",
   "execution_count": 3,
   "metadata": {},
   "outputs": [],
   "source": [
    "cancer = load_breast_cancer()"
   ]
  },
  {
   "cell_type": "code",
   "execution_count": 4,
   "metadata": {},
   "outputs": [
    {
     "data": {
      "text/plain": [
       "dict_keys(['data', 'target', 'frame', 'target_names', 'DESCR', 'feature_names', 'filename', 'data_module'])"
      ]
     },
     "execution_count": 4,
     "metadata": {},
     "output_type": "execute_result"
    }
   ],
   "source": [
    "cancer.keys()"
   ]
  },
  {
   "cell_type": "code",
   "execution_count": 5,
   "metadata": {},
   "outputs": [
    {
     "name": "stdout",
     "output_type": "stream",
     "text": [
      "[0 0 0 0 0 0 0 0 0 0 0 0 0 0 0 0 0 0 0 1 1 1 0 0 0 0 0 0 0 0 0 0 0 0 0 0 0\n",
      " 1 0 0 0 0 0 0 0 0 1 0 1 1 1 1 1 0 0 1 0 0 1 1 1 1 0 1 0 0 1 1 1 1 0 1 0 0\n",
      " 1 0 1 0 0 1 1 1 0 0 1 0 0 0 1 1 1 0 1 1 0 0 1 1 1 0 0 1 1 1 1 0 1 1 0 1 1\n",
      " 1 1 1 1 1 1 0 0 0 1 0 0 1 1 1 0 0 1 0 1 0 0 1 0 0 1 1 0 1 1 0 1 1 1 1 0 1\n",
      " 1 1 1 1 1 1 1 1 0 1 1 1 1 0 0 1 0 1 1 0 0 1 1 0 0 1 1 1 1 0 1 1 0 0 0 1 0\n",
      " 1 0 1 1 1 0 1 1 0 0 1 0 0 0 0 1 0 0 0 1 0 1 0 1 1 0 1 0 0 0 0 1 1 0 0 1 1\n",
      " 1 0 1 1 1 1 1 0 0 1 1 0 1 1 0 0 1 0 1 1 1 1 0 1 1 1 1 1 0 1 0 0 0 0 0 0 0\n",
      " 0 0 0 0 0 0 0 1 1 1 1 1 1 0 1 0 1 1 0 1 1 0 1 0 0 1 1 1 1 1 1 1 1 1 1 1 1\n",
      " 1 0 1 1 0 1 0 1 1 1 1 1 1 1 1 1 1 1 1 1 1 0 1 1 1 0 1 0 1 1 1 1 0 0 0 1 1\n",
      " 1 1 0 1 0 1 0 1 1 1 0 1 1 1 1 1 1 1 0 0 0 1 1 1 1 1 1 1 1 1 1 1 0 0 1 0 0\n",
      " 0 1 0 0 1 1 1 1 1 0 1 1 1 1 1 0 1 1 1 0 1 1 0 0 1 1 1 1 1 1 0 1 1 1 1 1 1\n",
      " 1 0 1 1 1 1 1 0 1 1 0 1 1 1 1 1 1 1 1 1 1 1 1 0 1 0 0 1 0 1 1 1 1 1 0 1 1\n",
      " 0 1 0 1 1 0 1 0 1 1 1 1 1 1 1 1 0 0 1 1 1 1 1 1 0 1 1 1 1 1 1 1 1 1 1 0 1\n",
      " 1 1 1 1 1 1 0 1 0 1 1 0 1 1 1 1 1 0 0 1 0 1 0 1 1 1 1 1 0 1 1 0 1 0 1 0 0\n",
      " 1 1 1 0 1 1 1 1 1 1 1 1 1 1 1 0 1 0 0 1 1 1 1 1 1 1 1 1 1 1 1 1 1 1 1 1 1\n",
      " 1 1 1 1 1 1 1 0 0 0 0 0 0 1]\n"
     ]
    }
   ],
   "source": [
    "print(cancer['target'])"
   ]
  },
  {
   "cell_type": "code",
   "execution_count": 6,
   "metadata": {},
   "outputs": [
    {
     "name": "stdout",
     "output_type": "stream",
     "text": [
      ".. _breast_cancer_dataset:\n",
      "\n",
      "Breast cancer wisconsin (diagnostic) dataset\n",
      "--------------------------------------------\n",
      "\n",
      "**Data Set Characteristics:**\n",
      "\n",
      "    :Number of Instances: 569\n",
      "\n",
      "    :Number of Attributes: 30 numeric, predictive attributes and the class\n",
      "\n",
      "    :Attribute Information:\n",
      "        - radius (mean of distances from center to points on the perimeter)\n",
      "        - texture (standard deviation of gray-scale values)\n",
      "        - perimeter\n",
      "        - area\n",
      "        - smoothness (local variation in radius lengths)\n",
      "        - compactness (perimeter^2 / area - 1.0)\n",
      "        - concavity (severity of concave portions of the contour)\n",
      "        - concave points (number of concave portions of the contour)\n",
      "        - symmetry\n",
      "        - fractal dimension (\"coastline approximation\" - 1)\n",
      "\n",
      "        The mean, standard error, and \"worst\" or largest (mean of the three\n",
      "        worst/largest values) of these features were computed for each image,\n",
      "        resulting in 30 features.  For instance, field 0 is Mean Radius, field\n",
      "        10 is Radius SE, field 20 is Worst Radius.\n",
      "\n",
      "        - class:\n",
      "                - WDBC-Malignant\n",
      "                - WDBC-Benign\n",
      "\n",
      "    :Summary Statistics:\n",
      "\n",
      "    ===================================== ====== ======\n",
      "                                           Min    Max\n",
      "    ===================================== ====== ======\n",
      "    radius (mean):                        6.981  28.11\n",
      "    texture (mean):                       9.71   39.28\n",
      "    perimeter (mean):                     43.79  188.5\n",
      "    area (mean):                          143.5  2501.0\n",
      "    smoothness (mean):                    0.053  0.163\n",
      "    compactness (mean):                   0.019  0.345\n",
      "    concavity (mean):                     0.0    0.427\n",
      "    concave points (mean):                0.0    0.201\n",
      "    symmetry (mean):                      0.106  0.304\n",
      "    fractal dimension (mean):             0.05   0.097\n",
      "    radius (standard error):              0.112  2.873\n",
      "    texture (standard error):             0.36   4.885\n",
      "    perimeter (standard error):           0.757  21.98\n",
      "    area (standard error):                6.802  542.2\n",
      "    smoothness (standard error):          0.002  0.031\n",
      "    compactness (standard error):         0.002  0.135\n",
      "    concavity (standard error):           0.0    0.396\n",
      "    concave points (standard error):      0.0    0.053\n",
      "    symmetry (standard error):            0.008  0.079\n",
      "    fractal dimension (standard error):   0.001  0.03\n",
      "    radius (worst):                       7.93   36.04\n",
      "    texture (worst):                      12.02  49.54\n",
      "    perimeter (worst):                    50.41  251.2\n",
      "    area (worst):                         185.2  4254.0\n",
      "    smoothness (worst):                   0.071  0.223\n",
      "    compactness (worst):                  0.027  1.058\n",
      "    concavity (worst):                    0.0    1.252\n",
      "    concave points (worst):               0.0    0.291\n",
      "    symmetry (worst):                     0.156  0.664\n",
      "    fractal dimension (worst):            0.055  0.208\n",
      "    ===================================== ====== ======\n",
      "\n",
      "    :Missing Attribute Values: None\n",
      "\n",
      "    :Class Distribution: 212 - Malignant, 357 - Benign\n",
      "\n",
      "    :Creator:  Dr. William H. Wolberg, W. Nick Street, Olvi L. Mangasarian\n",
      "\n",
      "    :Donor: Nick Street\n",
      "\n",
      "    :Date: November, 1995\n",
      "\n",
      "This is a copy of UCI ML Breast Cancer Wisconsin (Diagnostic) datasets.\n",
      "https://goo.gl/U2Uwz2\n",
      "\n",
      "Features are computed from a digitized image of a fine needle\n",
      "aspirate (FNA) of a breast mass.  They describe\n",
      "characteristics of the cell nuclei present in the image.\n",
      "\n",
      "Separating plane described above was obtained using\n",
      "Multisurface Method-Tree (MSM-T) [K. P. Bennett, \"Decision Tree\n",
      "Construction Via Linear Programming.\" Proceedings of the 4th\n",
      "Midwest Artificial Intelligence and Cognitive Science Society,\n",
      "pp. 97-101, 1992], a classification method which uses linear\n",
      "programming to construct a decision tree.  Relevant features\n",
      "were selected using an exhaustive search in the space of 1-4\n",
      "features and 1-3 separating planes.\n",
      "\n",
      "The actual linear program used to obtain the separating plane\n",
      "in the 3-dimensional space is that described in:\n",
      "[K. P. Bennett and O. L. Mangasarian: \"Robust Linear\n",
      "Programming Discrimination of Two Linearly Inseparable Sets\",\n",
      "Optimization Methods and Software 1, 1992, 23-34].\n",
      "\n",
      "This database is also available through the UW CS ftp server:\n",
      "\n",
      "ftp ftp.cs.wisc.edu\n",
      "cd math-prog/cpo-dataset/machine-learn/WDBC/\n",
      "\n",
      ".. topic:: References\n",
      "\n",
      "   - W.N. Street, W.H. Wolberg and O.L. Mangasarian. Nuclear feature extraction \n",
      "     for breast tumor diagnosis. IS&T/SPIE 1993 International Symposium on \n",
      "     Electronic Imaging: Science and Technology, volume 1905, pages 861-870,\n",
      "     San Jose, CA, 1993.\n",
      "   - O.L. Mangasarian, W.N. Street and W.H. Wolberg. Breast cancer diagnosis and \n",
      "     prognosis via linear programming. Operations Research, 43(4), pages 570-577, \n",
      "     July-August 1995.\n",
      "   - W.H. Wolberg, W.N. Street, and O.L. Mangasarian. Machine learning techniques\n",
      "     to diagnose breast cancer from fine-needle aspirates. Cancer Letters 77 (1994) \n",
      "     163-171.\n"
     ]
    }
   ],
   "source": [
    "print(cancer['DESCR'])"
   ]
  },
  {
   "cell_type": "markdown",
   "metadata": {},
   "source": [
    "# Data Balancing"
   ]
  },
  {
   "cell_type": "code",
   "execution_count": 7,
   "metadata": {},
   "outputs": [
    {
     "name": "stdout",
     "output_type": "stream",
     "text": [
      "Number of samples in class 0(benign): 357\n",
      "Number of samples in class 1(malignant): 212\n"
     ]
    }
   ],
   "source": [
    "# Example dataset (replace this with your dataset)\n",
    "target = np.array(cancer['target'])\n",
    "\n",
    "# Define the target class you want to count (e.g., class 1)\n",
    "target_class1 = 1\n",
    "target_class2 = 0\n",
    "\n",
    "# Count the number of samples in the target class\n",
    "class_count1 = np.sum(target == target_class1)\n",
    "class_count2 = np.sum(target == target_class2)\n",
    "\n",
    "print(f\"Number of samples in class {target_class2}(benign): {class_count1}\")\n",
    "\n",
    "print(f\"Number of samples in class {target_class1}(malignant): {class_count2}\")"
   ]
  },
  {
   "cell_type": "code",
   "execution_count": 8,
   "metadata": {},
   "outputs": [
    {
     "data": {
      "image/png": "[encoded data removed]",
      "text/plain": [
       "<Figure size 360x360 with 1 Axes>"
      ]
     },
     "metadata": {},
     "output_type": "display_data"
    }
   ],
   "source": [
    "# Sample data\n",
    "sample_data = {'target': ['Benign', 'Malignant'],}\n",
    "\n",
    "# Create a DataFrame from the data\n",
    "df1 = pd.DataFrame(sample_data)\n",
    "\n",
    "# Count the instances in each AQI level class\n",
    "class_counts = df1['target'].value_counts()\n",
    "\n",
    "palette={'Benign':\"g\",'Malignant':\"r\"}\n",
    "\n",
    "\n",
    "# Create a pie chart\n",
    "plt.figure(figsize=(6, 6), dpi=60)\n",
    "colors = [palette[level] for level in class_counts.index]\n",
    "plt.pie(class_counts, labels=class_counts.index, colors=colors, autopct='%1.2f%%', startangle=140)\n",
    "\n",
    "# Add a title\n",
    "plt.title('Data Balancing')\n",
    "\n",
    "# Show the plot\n",
    "plt.show()"
   ]
  },
  {
   "cell_type": "code",
   "execution_count": 9,
   "metadata": {},
   "outputs": [],
   "source": [
    "df = pd.DataFrame(cancer['data'],columns=cancer['feature_names'])\n",
    "#(['DESCR', 'data', 'feature_names', 'target_names', 'target'])"
   ]
  },
  {
   "cell_type": "code",
   "execution_count": 10,
   "metadata": {},
   "outputs": [
    {
     "data": {
      "text/html": [
       "<div>\n",
       "<style scoped>\n",
       "    .dataframe tbody tr th:only-of-type {\n",
       "        vertical-align: middle;\n",
       "    }\n",
       "\n",
       "    .dataframe tbody tr th {\n",
       "        vertical-align: top;\n",
       "    }\n",
       "\n",
       "    .dataframe thead th {\n",
       "        text-align: right;\n",
       "    }\n",
       "</style>\n",
       "<table border=\"1\" class=\"dataframe\">\n",
       "  <thead>\n",
       "    <tr style=\"text-align: right;\">\n",
       "      <th></th>\n",
       "      <th>mean radius</th>\n",
       "      <th>mean texture</th>\n",
       "      <th>mean perimeter</th>\n",
       "      <th>mean area</th>\n",
       "      <th>mean smoothness</th>\n",
       "      <th>mean compactness</th>\n",
       "      <th>mean concavity</th>\n",
       "      <th>mean concave points</th>\n",
       "      <th>mean symmetry</th>\n",
       "      <th>mean fractal dimension</th>\n",
       "      <th>...</th>\n",
       "      <th>worst radius</th>\n",
       "      <th>worst texture</th>\n",
       "      <th>worst perimeter</th>\n",
       "      <th>worst area</th>\n",
       "      <th>worst smoothness</th>\n",
       "      <th>worst compactness</th>\n",
       "      <th>worst concavity</th>\n",
       "      <th>worst concave points</th>\n",
       "      <th>worst symmetry</th>\n",
       "      <th>worst fractal dimension</th>\n",
       "    </tr>\n",
       "  </thead>\n",
       "  <tbody>\n",
       "    <tr>\n",
       "      <th>0</th>\n",
       "      <td>17.99</td>\n",
       "      <td>10.38</td>\n",
       "      <td>122.80</td>\n",
       "      <td>1001.0</td>\n",
       "      <td>0.11840</td>\n",
       "      <td>0.27760</td>\n",
       "      <td>0.3001</td>\n",
       "      <td>0.14710</td>\n",
       "      <td>0.2419</td>\n",
       "      <td>0.07871</td>\n",
       "      <td>...</td>\n",
       "      <td>25.38</td>\n",
       "      <td>17.33</td>\n",
       "      <td>184.60</td>\n",
       "      <td>2019.0</td>\n",
       "      <td>0.1622</td>\n",
       "      <td>0.6656</td>\n",
       "      <td>0.7119</td>\n",
       "      <td>0.2654</td>\n",
       "      <td>0.4601</td>\n",
       "      <td>0.11890</td>\n",
       "    </tr>\n",
       "    <tr>\n",
       "      <th>1</th>\n",
       "      <td>20.57</td>\n",
       "      <td>17.77</td>\n",
       "      <td>132.90</td>\n",
       "      <td>1326.0</td>\n",
       "      <td>0.08474</td>\n",
       "      <td>0.07864</td>\n",
       "      <td>0.0869</td>\n",
       "      <td>0.07017</td>\n",
       "      <td>0.1812</td>\n",
       "      <td>0.05667</td>\n",
       "      <td>...</td>\n",
       "      <td>24.99</td>\n",
       "      <td>23.41</td>\n",
       "      <td>158.80</td>\n",
       "      <td>1956.0</td>\n",
       "      <td>0.1238</td>\n",
       "      <td>0.1866</td>\n",
       "      <td>0.2416</td>\n",
       "      <td>0.1860</td>\n",
       "      <td>0.2750</td>\n",
       "      <td>0.08902</td>\n",
       "    </tr>\n",
       "    <tr>\n",
       "      <th>2</th>\n",
       "      <td>19.69</td>\n",
       "      <td>21.25</td>\n",
       "      <td>130.00</td>\n",
       "      <td>1203.0</td>\n",
       "      <td>0.10960</td>\n",
       "      <td>0.15990</td>\n",
       "      <td>0.1974</td>\n",
       "      <td>0.12790</td>\n",
       "      <td>0.2069</td>\n",
       "      <td>0.05999</td>\n",
       "      <td>...</td>\n",
       "      <td>23.57</td>\n",
       "      <td>25.53</td>\n",
       "      <td>152.50</td>\n",
       "      <td>1709.0</td>\n",
       "      <td>0.1444</td>\n",
       "      <td>0.4245</td>\n",
       "      <td>0.4504</td>\n",
       "      <td>0.2430</td>\n",
       "      <td>0.3613</td>\n",
       "      <td>0.08758</td>\n",
       "    </tr>\n",
       "    <tr>\n",
       "      <th>3</th>\n",
       "      <td>11.42</td>\n",
       "      <td>20.38</td>\n",
       "      <td>77.58</td>\n",
       "      <td>386.1</td>\n",
       "      <td>0.14250</td>\n",
       "      <td>0.28390</td>\n",
       "      <td>0.2414</td>\n",
       "      <td>0.10520</td>\n",
       "      <td>0.2597</td>\n",
       "      <td>0.09744</td>\n",
       "      <td>...</td>\n",
       "      <td>14.91</td>\n",
       "      <td>26.50</td>\n",
       "      <td>98.87</td>\n",
       "      <td>567.7</td>\n",
       "      <td>0.2098</td>\n",
       "      <td>0.8663</td>\n",
       "      <td>0.6869</td>\n",
       "      <td>0.2575</td>\n",
       "      <td>0.6638</td>\n",
       "      <td>0.17300</td>\n",
       "    </tr>\n",
       "    <tr>\n",
       "      <th>4</th>\n",
       "      <td>20.29</td>\n",
       "      <td>14.34</td>\n",
       "      <td>135.10</td>\n",
       "      <td>1297.0</td>\n",
       "      <td>0.10030</td>\n",
       "      <td>0.13280</td>\n",
       "      <td>0.1980</td>\n",
       "      <td>0.10430</td>\n",
       "      <td>0.1809</td>\n",
       "      <td>0.05883</td>\n",
       "      <td>...</td>\n",
       "      <td>22.54</td>\n",
       "      <td>16.67</td>\n",
       "      <td>152.20</td>\n",
       "      <td>1575.0</td>\n",
       "      <td>0.1374</td>\n",
       "      <td>0.2050</td>\n",
       "      <td>0.4000</td>\n",
       "      <td>0.1625</td>\n",
       "      <td>0.2364</td>\n",
       "      <td>0.07678</td>\n",
       "    </tr>\n",
       "  </tbody>\n",
       "</table>\n",
       "<p>5 rows × 30 columns</p>\n",
       "</div>"
      ],
      "text/plain": [
       "   mean radius  mean texture  mean perimeter  mean area  mean smoothness  \\\n",
       "0        17.99         10.38          122.80     1001.0          0.11840   \n",
       "1        20.57         17.77          132.90     1326.0          0.08474   \n",
       "2        19.69         21.25          130.00     1203.0          0.10960   \n",
       "3        11.42         20.38           77.58      386.1          0.14250   \n",
       "4        20.29         14.34          135.10     1297.0          0.10030   \n",
       "\n",
       "   mean compactness  mean concavity  mean concave points  mean symmetry  \\\n",
       "0           0.27760          0.3001              0.14710         0.2419   \n",
       "1           0.07864          0.0869              0.07017         0.1812   \n",
       "2           0.15990          0.1974              0.12790         0.2069   \n",
       "3           0.28390          0.2414              0.10520         0.2597   \n",
       "4           0.13280          0.1980              0.10430         0.1809   \n",
       "\n",
       "   mean fractal dimension  ...  worst radius  worst texture  worst perimeter  \\\n",
       "0                 0.07871  ...         25.38          17.33           184.60   \n",
       "1                 0.05667  ...         24.99          23.41           158.80   \n",
       "2                 0.05999  ...         23.57          25.53           152.50   \n",
       "3                 0.09744  ...         14.91          26.50            98.87   \n",
       "4                 0.05883  ...         22.54          16.67           152.20   \n",
       "\n",
       "   worst area  worst smoothness  worst compactness  worst concavity  \\\n",
       "0      2019.0            0.1622             0.6656           0.7119   \n",
       "1      1956.0            0.1238             0.1866           0.2416   \n",
       "2      1709.0            0.1444             0.4245           0.4504   \n",
       "3       567.7            0.2098             0.8663           0.6869   \n",
       "4      1575.0            0.1374             0.2050           0.4000   \n",
       "\n",
       "   worst concave points  worst symmetry  worst fractal dimension  \n",
       "0                0.2654          0.4601                  0.11890  \n",
       "1                0.1860          0.2750                  0.08902  \n",
       "2                0.2430          0.3613                  0.08758  \n",
       "3                0.2575          0.6638                  0.17300  \n",
       "4                0.1625          0.2364                  0.07678  \n",
       "\n",
       "[5 rows x 30 columns]"
      ]
     },
     "execution_count": 10,
     "metadata": {},
     "output_type": "execute_result"
    }
   ],
   "source": [
    "df.head()"
   ]
  },
  {
   "cell_type": "markdown",
   "metadata": {},
   "source": [
    "# Standardization with StandardScalar called as Z-Score Standardization"
   ]
  },
  {
   "cell_type": "code",
   "execution_count": 11,
   "metadata": {},
   "outputs": [],
   "source": [
    "from sklearn.preprocessing import StandardScaler"
   ]
  },
  {
   "cell_type": "code",
   "execution_count": 12,
   "metadata": {},
   "outputs": [
    {
     "data": {
      "text/html": [
       "<style>#sk-container-id-1 {color: black;background-color: white;}#sk-container-id-1 pre{padding: 0;}#sk-container-id-1 div.sk-toggleable {background-color: white;}#sk-container-id-1 label.sk-toggleable__label {cursor: pointer;display: block;width: 100%;margin-bottom: 0;padding: 0.3em;box-sizing: border-box;text-align: center;}#sk-container-id-1 label.sk-toggleable__label-arrow:before {content: \"▸\";float: left;margin-right: 0.25em;color: #696969;}#sk-container-id-1 label.sk-toggleable__label-arrow:hover:before {color: black;}#sk-container-id-1 div.sk-estimator:hover label.sk-toggleable__label-arrow:before {color: black;}#sk-container-id-1 div.sk-toggleable__content {max-height: 0;max-width: 0;overflow: hidden;text-align: left;background-color: #f0f8ff;}#sk-container-id-1 div.sk-toggleable__content pre {margin: 0.2em;color: black;border-radius: 0.25em;background-color: #f0f8ff;}#sk-container-id-1 input.sk-toggleable__control:checked~div.sk-toggleable__content {max-height: 200px;max-width: 100%;overflow: auto;}#sk-container-id-1 input.sk-toggleable__control:checked~label.sk-toggleable__label-arrow:before {content: \"▾\";}#sk-container-id-1 div.sk-estimator input.sk-toggleable__control:checked~label.sk-toggleable__label {background-color: #d4ebff;}#sk-container-id-1 div.sk-label input.sk-toggleable__control:checked~label.sk-toggleable__label {background-color: #d4ebff;}#sk-container-id-1 input.sk-hidden--visually {border: 0;clip: rect(1px 1px 1px 1px);clip: rect(1px, 1px, 1px, 1px);height: 1px;margin: -1px;overflow: hidden;padding: 0;position: absolute;width: 1px;}#sk-container-id-1 div.sk-estimator {font-family: monospace;background-color: #f0f8ff;border: 1px dotted black;border-radius: 0.25em;box-sizing: border-box;margin-bottom: 0.5em;}#sk-container-id-1 div.sk-estimator:hover {background-color: #d4ebff;}#sk-container-id-1 div.sk-parallel-item::after {content: \"\";width: 100%;border-bottom: 1px solid gray;flex-grow: 1;}#sk-container-id-1 div.sk-label:hover label.sk-toggleable__label {background-color: #d4ebff;}#sk-container-id-1 div.sk-serial::before {content: \"\";position: absolute;border-left: 1px solid gray;box-sizing: border-box;top: 0;bottom: 0;left: 50%;z-index: 0;}#sk-container-id-1 div.sk-serial {display: flex;flex-direction: column;align-items: center;background-color: white;padding-right: 0.2em;padding-left: 0.2em;position: relative;}#sk-container-id-1 div.sk-item {position: relative;z-index: 1;}#sk-container-id-1 div.sk-parallel {display: flex;align-items: stretch;justify-content: center;background-color: white;position: relative;}#sk-container-id-1 div.sk-item::before, #sk-container-id-1 div.sk-parallel-item::before {content: \"\";position: absolute;border-left: 1px solid gray;box-sizing: border-box;top: 0;bottom: 0;left: 50%;z-index: -1;}#sk-container-id-1 div.sk-parallel-item {display: flex;flex-direction: column;z-index: 1;position: relative;background-color: white;}#sk-container-id-1 div.sk-parallel-item:first-child::after {align-self: flex-end;width: 50%;}#sk-container-id-1 div.sk-parallel-item:last-child::after {align-self: flex-start;width: 50%;}#sk-container-id-1 div.sk-parallel-item:only-child::after {width: 0;}#sk-container-id-1 div.sk-dashed-wrapped {border: 1px dashed gray;margin: 0 0.4em 0.5em 0.4em;box-sizing: border-box;padding-bottom: 0.4em;background-color: white;}#sk-container-id-1 div.sk-label label {font-family: monospace;font-weight: bold;display: inline-block;line-height: 1.2em;}#sk-container-id-1 div.sk-label-container {text-align: center;}#sk-container-id-1 div.sk-container {/* jupyter's `normalize.less` sets `[hidden] { display: none; }` but bootstrap.min.css set `[hidden] { display: none !important; }` so we also need the `!important` here to be able to override the default hidden behavior on the sphinx rendered scikit-learn.org. See: https://github.com/scikit-learn/scikit-learn/issues/21755 */display: inline-block !important;position: relative;}#sk-container-id-1 div.sk-text-repr-fallback {display: none;}</style><div id=\"sk-container-id-1\" class=\"sk-top-container\"><div class=\"sk-text-repr-fallback\"><pre>StandardScaler()</pre><b>In a Jupyter environment, please rerun this cell to show the HTML representation or trust the notebook. <br />On GitHub, the HTML representation is unable to render, please try loading this page with nbviewer.org.</b></div><div class=\"sk-container\" hidden><div class=\"sk-item\"><div class=\"sk-estimator sk-toggleable\"><input class=\"sk-toggleable__control sk-hidden--visually\" id=\"sk-estimator-id-1\" type=\"checkbox\" checked><label for=\"sk-estimator-id-1\" class=\"sk-toggleable__label sk-toggleable__label-arrow\">StandardScaler</label><div class=\"sk-toggleable__content\"><pre>StandardScaler()</pre></div></div></div></div></div>"
      ],
      "text/plain": [
       "StandardScaler()"
      ]
     },
     "execution_count": 12,
     "metadata": {},
     "output_type": "execute_result"
    }
   ],
   "source": [
    "scaler = StandardScaler()\n",
    "scaler.fit(df)"
   ]
  },
  {
   "cell_type": "code",
   "execution_count": 13,
   "metadata": {},
   "outputs": [],
   "source": [
    "scaled_data = scaler.transform(df)"
   ]
  },
  {
   "cell_type": "markdown",
   "metadata": {},
   "source": [
    "# PCA "
   ]
  },
  {
   "cell_type": "code",
   "execution_count": 14,
   "metadata": {},
   "outputs": [],
   "source": [
    "from sklearn.decomposition import PCA"
   ]
  },
  {
   "cell_type": "code",
   "execution_count": 15,
   "metadata": {},
   "outputs": [],
   "source": [
    "pca = PCA(n_components = 2)"
   ]
  },
  {
   "cell_type": "code",
   "execution_count": 16,
   "metadata": {},
   "outputs": [
    {
     "data": {
      "text/html": [
       "<style>#sk-container-id-2 {color: black;background-color: white;}#sk-container-id-2 pre{padding: 0;}#sk-container-id-2 div.sk-toggleable {background-color: white;}#sk-container-id-2 label.sk-toggleable__label {cursor: pointer;display: block;width: 100%;margin-bottom: 0;padding: 0.3em;box-sizing: border-box;text-align: center;}#sk-container-id-2 label.sk-toggleable__label-arrow:before {content: \"▸\";float: left;margin-right: 0.25em;color: #696969;}#sk-container-id-2 label.sk-toggleable__label-arrow:hover:before {color: black;}#sk-container-id-2 div.sk-estimator:hover label.sk-toggleable__label-arrow:before {color: black;}#sk-container-id-2 div.sk-toggleable__content {max-height: 0;max-width: 0;overflow: hidden;text-align: left;background-color: #f0f8ff;}#sk-container-id-2 div.sk-toggleable__content pre {margin: 0.2em;color: black;border-radius: 0.25em;background-color: #f0f8ff;}#sk-container-id-2 input.sk-toggleable__control:checked~div.sk-toggleable__content {max-height: 200px;max-width: 100%;overflow: auto;}#sk-container-id-2 input.sk-toggleable__control:checked~label.sk-toggleable__label-arrow:before {content: \"▾\";}#sk-container-id-2 div.sk-estimator input.sk-toggleable__control:checked~label.sk-toggleable__label {background-color: #d4ebff;}#sk-container-id-2 div.sk-label input.sk-toggleable__control:checked~label.sk-toggleable__label {background-color: #d4ebff;}#sk-container-id-2 input.sk-hidden--visually {border: 0;clip: rect(1px 1px 1px 1px);clip: rect(1px, 1px, 1px, 1px);height: 1px;margin: -1px;overflow: hidden;padding: 0;position: absolute;width: 1px;}#sk-container-id-2 div.sk-estimator {font-family: monospace;background-color: #f0f8ff;border: 1px dotted black;border-radius: 0.25em;box-sizing: border-box;margin-bottom: 0.5em;}#sk-container-id-2 div.sk-estimator:hover {background-color: #d4ebff;}#sk-container-id-2 div.sk-parallel-item::after {content: \"\";width: 100%;border-bottom: 1px solid gray;flex-grow: 1;}#sk-container-id-2 div.sk-label:hover label.sk-toggleable__label {background-color: #d4ebff;}#sk-container-id-2 div.sk-serial::before {content: \"\";position: absolute;border-left: 1px solid gray;box-sizing: border-box;top: 0;bottom: 0;left: 50%;z-index: 0;}#sk-container-id-2 div.sk-serial {display: flex;flex-direction: column;align-items: center;background-color: white;padding-right: 0.2em;padding-left: 0.2em;position: relative;}#sk-container-id-2 div.sk-item {position: relative;z-index: 1;}#sk-container-id-2 div.sk-parallel {display: flex;align-items: stretch;justify-content: center;background-color: white;position: relative;}#sk-container-id-2 div.sk-item::before, #sk-container-id-2 div.sk-parallel-item::before {content: \"\";position: absolute;border-left: 1px solid gray;box-sizing: border-box;top: 0;bottom: 0;left: 50%;z-index: -1;}#sk-container-id-2 div.sk-parallel-item {display: flex;flex-direction: column;z-index: 1;position: relative;background-color: white;}#sk-container-id-2 div.sk-parallel-item:first-child::after {align-self: flex-end;width: 50%;}#sk-container-id-2 div.sk-parallel-item:last-child::after {align-self: flex-start;width: 50%;}#sk-container-id-2 div.sk-parallel-item:only-child::after {width: 0;}#sk-container-id-2 div.sk-dashed-wrapped {border: 1px dashed gray;margin: 0 0.4em 0.5em 0.4em;box-sizing: border-box;padding-bottom: 0.4em;background-color: white;}#sk-container-id-2 div.sk-label label {font-family: monospace;font-weight: bold;display: inline-block;line-height: 1.2em;}#sk-container-id-2 div.sk-label-container {text-align: center;}#sk-container-id-2 div.sk-container {/* jupyter's `normalize.less` sets `[hidden] { display: none; }` but bootstrap.min.css set `[hidden] { display: none !important; }` so we also need the `!important` here to be able to override the default hidden behavior on the sphinx rendered scikit-learn.org. See: https://github.com/scikit-learn/scikit-learn/issues/21755 */display: inline-block !important;position: relative;}#sk-container-id-2 div.sk-text-repr-fallback {display: none;}</style><div id=\"sk-container-id-2\" class=\"sk-top-container\"><div class=\"sk-text-repr-fallback\"><pre>PCA(n_components=2)</pre><b>In a Jupyter environment, please rerun this cell to show the HTML representation or trust the notebook. <br />On GitHub, the HTML representation is unable to render, please try loading this page with nbviewer.org.</b></div><div class=\"sk-container\" hidden><div class=\"sk-item\"><div class=\"sk-estimator sk-toggleable\"><input class=\"sk-toggleable__control sk-hidden--visually\" id=\"sk-estimator-id-2\" type=\"checkbox\" checked><label for=\"sk-estimator-id-2\" class=\"sk-toggleable__label sk-toggleable__label-arrow\">PCA</label><div class=\"sk-toggleable__content\"><pre>PCA(n_components=2)</pre></div></div></div></div></div>"
      ],
      "text/plain": [
       "PCA(n_components=2)"
      ]
     },
     "execution_count": 16,
     "metadata": {},
     "output_type": "execute_result"
    }
   ],
   "source": [
    "pca.fit(scaled_data)"
   ]
  },
  {
   "cell_type": "markdown",
   "metadata": {},
   "source": [
    "Now we can transform this data to its first 2 principal components."
   ]
  },
  {
   "cell_type": "code",
   "execution_count": 17,
   "metadata": {},
   "outputs": [],
   "source": [
    "x_pca = pca.transform(scaled_data)"
   ]
  },
  {
   "cell_type": "code",
   "execution_count": 18,
   "metadata": {},
   "outputs": [
    {
     "data": {
      "text/plain": [
       "(569, 30)"
      ]
     },
     "execution_count": 18,
     "metadata": {},
     "output_type": "execute_result"
    }
   ],
   "source": [
    "scaled_data.shape"
   ]
  },
  {
   "cell_type": "code",
   "execution_count": 19,
   "metadata": {},
   "outputs": [
    {
     "data": {
      "text/plain": [
       "(569, 2)"
      ]
     },
     "execution_count": 19,
     "metadata": {},
     "output_type": "execute_result"
    }
   ],
   "source": [
    "x_pca.shape"
   ]
  },
  {
   "cell_type": "code",
   "execution_count": 20,
   "metadata": {},
   "outputs": [
    {
     "name": "stdout",
     "output_type": "stream",
     "text": [
      "[[ 1.00176056e+00  3.24351929e-01  9.99612069e-01  9.89095475e-01\n",
      "   1.70881506e-01  5.07014640e-01  6.77955036e-01  8.23976636e-01\n",
      "   1.48001350e-01 -3.12179472e-01  6.80285970e-01 -9.74887767e-02\n",
      "   6.75358538e-01  7.37159198e-01 -2.22992026e-01  2.06362656e-01\n",
      "   1.94545531e-01  3.76831225e-01 -1.04504545e-01 -4.27163418e-02\n",
      "   9.71245907e-01  2.97530545e-01  9.66835698e-01  9.42739295e-01\n",
      "   1.19826732e-01  4.14190751e-01  5.27839123e-01  7.45524434e-01\n",
      "   1.64241985e-01  7.07832563e-03]\n",
      " [ 3.24351929e-01  1.00176056e+00  3.30113223e-01  3.21650988e-01\n",
      "  -2.34296930e-02  2.37118951e-01  3.02950254e-01  2.93980713e-01\n",
      "   7.15266864e-02 -7.65717560e-02  2.76354360e-01  3.87037830e-01\n",
      "   2.82169018e-01  2.60302460e-01  6.62542133e-03  1.92312595e-01\n",
      "   1.43545353e-01  1.64139495e-01  9.14323671e-03  5.45533955e-02\n",
      "   3.53193674e-01  9.13650301e-01  3.58669926e-01  3.44150782e-01\n",
      "   7.76398084e-02  2.78318729e-01  3.01555198e-01  2.95835766e-01\n",
      "   1.05192783e-01  1.19415220e-01]\n",
      " [ 9.99612069e-01  3.30113223e-01  1.00176056e+00  9.88243612e-01\n",
      "   2.07643090e-01  5.57916732e-01  7.17396452e-01  8.52475240e-01\n",
      "   1.83349443e-01 -2.61937255e-01  6.92982910e-01 -8.69138267e-02\n",
      "   6.94355197e-01  7.46294283e-01 -2.03050882e-01  2.51185131e-01\n",
      "   2.28483899e-01  4.07933847e-01 -8.17730406e-02 -5.53311534e-03\n",
      "   9.71183188e-01  3.03571890e-01  9.72095315e-01  9.43207466e-01\n",
      "   1.50814456e-01  4.56576647e-01  5.64872009e-01  7.72598608e-01\n",
      "   1.89447989e-01  5.11083511e-02]\n",
      " [ 9.89095475e-01  3.21650988e-01  9.88243612e-01  1.00176056e+00\n",
      "   1.77340047e-01  4.99379326e-01  6.87190545e-01  8.24718286e-01\n",
      "   1.51559440e-01 -2.83608244e-01  7.33851949e-01 -6.63969041e-02\n",
      "   7.27907603e-01  8.01494523e-01 -1.67070287e-01  2.12956816e-01\n",
      "   2.08025659e-01  3.72975776e-01 -7.26242231e-02 -1.99219755e-02\n",
      "   9.64441062e-01  2.87994769e-01  9.60808165e-01  9.60902082e-01\n",
      "   1.23740409e-01  3.91097651e-01  5.13508396e-01  7.23287782e-01\n",
      "   1.43822678e-01  3.74417763e-03]\n",
      " [ 1.70881506e-01 -2.34296930e-02  2.07643090e-01  1.77340047e-01\n",
      "   1.00176056e+00  6.60283643e-01  5.22902753e-01  5.54669988e-01\n",
      "   5.58756786e-01  5.85821565e-01  3.01997850e-01  6.85268821e-02\n",
      "   2.96613222e-01  2.46986503e-01  3.32960611e-01  3.19504817e-01\n",
      "   2.48832996e-01  3.81345895e-01  2.01127852e-01  2.84106006e-01\n",
      "   2.13495353e-01  3.61353055e-02  2.39273141e-01  2.07082304e-01\n",
      "   8.06742020e-01  4.73300254e-01  4.35691429e-01  5.03939011e-01\n",
      "   3.95003689e-01  5.00195447e-01]\n",
      " [ 5.07014640e-01  2.37118951e-01  5.57916732e-01  4.99379326e-01\n",
      "   6.60283643e-01  1.00176056e+00  8.84675460e-01  8.32598309e-01\n",
      "   6.03702036e-01  5.66364031e-01  4.98349280e-01  4.62861772e-02\n",
      "   5.49871647e-01  4.56455058e-01  1.35537471e-01  7.40022356e-01\n",
      "   5.71521303e-01  6.43392594e-01  2.30381479e-01  5.08211293e-01\n",
      "   5.36257855e-01  2.48569687e-01  5.91249531e-01  5.10500995e-01\n",
      "   5.66536837e-01  8.67333351e-01  8.17712354e-01  8.17009092e-01\n",
      "   5.11121711e-01  6.88592503e-01]\n",
      " [ 6.77955036e-01  3.02950254e-01  7.17396452e-01  6.87190545e-01\n",
      "   5.22902753e-01  8.84675460e-01  1.00176056e+00  9.23013194e-01\n",
      "   5.01548072e-01  3.37376288e-01  6.33037366e-01  7.63525354e-02\n",
      "   6.61553447e-01  6.18513825e-01  9.87372735e-02  6.71458893e-01\n",
      "   6.92487233e-01  6.84462839e-01  1.78322604e-01  4.50091771e-01\n",
      "   6.89448091e-01  3.00406844e-01  7.30849362e-01  6.77177350e-01\n",
      "   4.49612218e-01  7.56297185e-01  8.85659158e-01  8.62839447e-01\n",
      "   4.10185014e-01  5.15836457e-01]\n",
      " [ 8.23976636e-01  2.93980713e-01  8.52475240e-01  8.24718286e-01\n",
      "   5.54669988e-01  8.32598309e-01  9.23013194e-01  1.00176056e+00\n",
      "   4.63311644e-01  1.67211252e-01  6.99278795e-01  2.15173981e-02\n",
      "   7.11901016e-01  6.91513854e-01  2.77019938e-02  4.91287673e-01\n",
      "   4.39940250e-01  6.16717994e-01  9.55186580e-02  2.58037239e-01\n",
      "   8.31779458e-01  2.93267121e-01  8.57430035e-01  8.11055024e-01\n",
      "   4.53550155e-01  6.68628771e-01  7.53724145e-01  9.11757700e-01\n",
      "   3.76405667e-01  3.69310185e-01]\n",
      " [ 1.48001350e-01  7.15266864e-02  1.83349443e-01  1.51559440e-01\n",
      "   5.58756786e-01  6.03702036e-01  5.01548072e-01  4.63311644e-01\n",
      "   1.00176056e+00  4.80766262e-01  3.03913382e-01  1.28278372e-01\n",
      "   3.14445389e-01  2.24364533e-01  1.87650956e-01  4.22401505e-01\n",
      "   3.43230240e-01  3.93990298e-01  4.49927276e-01  3.32370277e-01\n",
      "   1.86054739e-01  9.08102844e-02  2.19554419e-01  1.77505338e-01\n",
      "   4.27426215e-01  4.74033112e-01  4.34484601e-01  4.31054176e-01\n",
      "   7.01057885e-01  4.39185353e-01]\n",
      " [-3.12179472e-01 -7.65717560e-02 -2.61937255e-01 -2.83608244e-01\n",
      "   5.85821565e-01  5.66364031e-01  3.37376288e-01  1.67211252e-01\n",
      "   4.80766262e-01  1.00176056e+00  1.11190486e-04  1.64463005e-01\n",
      "   3.99000547e-02 -9.03289980e-02  4.02672109e-01  5.60822319e-01\n",
      "   4.47416643e-01  3.41798745e-01  3.45614805e-01  6.89343077e-01\n",
      "  -2.54138135e-01 -5.13594647e-02 -2.05512393e-01 -2.32262646e-01\n",
      "   5.05831058e-01  4.59605900e-01  3.46843443e-01  1.75634121e-01\n",
      "   3.34606745e-01  7.68647654e-01]\n",
      " [ 6.80285970e-01  2.76354360e-01  6.92982910e-01  7.33851949e-01\n",
      "   3.01997850e-01  4.98349280e-01  6.33037366e-01  6.99278795e-01\n",
      "   3.03913382e-01  1.11190486e-04  1.00176056e+00  2.13622773e-01\n",
      "   9.74506342e-01  9.53505869e-01  1.64803858e-01  3.56691450e-01\n",
      "   3.32942674e-01  5.14250220e-01  2.40990897e-01  2.28154507e-01\n",
      "   7.16324113e-01  1.95141512e-01  7.20950853e-01  7.52871625e-01\n",
      "   1.42168410e-01  2.87608629e-01  3.81254678e-01  5.31997297e-01\n",
      "   9.47092790e-02  4.96466850e-02]\n",
      " [-9.74887767e-02  3.87037830e-01 -8.69138267e-02 -6.63969041e-02\n",
      "   6.85268821e-02  4.62861772e-02  7.63525354e-02  2.15173981e-02\n",
      "   1.28278372e-01  1.64463005e-01  2.13622773e-01  1.00176056e+00\n",
      "   2.23563635e-01  1.11763668e-01  3.97942224e-01  2.32107621e-01\n",
      "   1.95341772e-01  2.30688828e-01  4.12345364e-01  2.80215217e-01\n",
      "  -1.11886951e-01  4.09722842e-01 -1.02421925e-01 -8.33414586e-02\n",
      "  -7.37873381e-02 -9.26020990e-02 -6.90776223e-02 -1.19848153e-01\n",
      "  -1.28440488e-01 -4.57349464e-02]\n",
      " [ 6.75358538e-01  2.82169018e-01  6.94355197e-01  7.27907603e-01\n",
      "   2.96613222e-01  5.49871647e-01  6.61553447e-01  7.11901016e-01\n",
      "   3.14445389e-01  3.99000547e-02  9.74506342e-01  2.23563635e-01\n",
      "   1.00176056e+00  9.39306209e-01  1.51341309e-01  4.17055330e-01\n",
      "   3.63119754e-01  5.57243422e-01  2.66956259e-01  2.44572602e-01\n",
      "   6.98428059e-01  2.00723620e-01  7.22300731e-01  7.31999440e-01\n",
      "   1.30283361e-01  3.42521416e-01  4.19636314e-01  5.55874162e-01\n",
      "   1.10123974e-01  8.55829815e-02]\n",
      " [ 7.37159198e-01  2.60302460e-01  7.46294283e-01  8.01494523e-01\n",
      "   2.46986503e-01  4.56455058e-01  6.18513825e-01  6.91513854e-01\n",
      "   2.24364533e-01 -9.03289980e-02  9.53505869e-01  1.11763668e-01\n",
      "   9.39306209e-01  1.00176056e+00  7.52826451e-02  2.85341536e-01\n",
      "   2.71371654e-01  4.16461487e-01  1.34345087e-01  1.27294619e-01\n",
      "   7.58706592e-01  1.96842594e-01  7.62552799e-01  8.12836496e-01\n",
      "   1.25610187e-01  2.83755229e-01  3.85778129e-01  5.39113790e-01\n",
      "   7.42567956e-02  1.75701742e-02]\n",
      " [-2.22992026e-01  6.62542133e-03 -2.03050882e-01 -1.67070287e-01\n",
      "   3.32960611e-01  1.35537471e-01  9.87372735e-02  2.77019938e-02\n",
      "   1.87650956e-01  4.02672109e-01  1.64803858e-01  3.97942224e-01\n",
      "   1.51341309e-01  7.52826451e-02  1.00176056e+00  3.37288855e-01\n",
      "   2.69157796e-01  3.29007720e-01  4.14234129e-01  4.28126626e-01\n",
      "  -2.31096855e-01 -7.48745546e-02 -2.17686332e-01 -1.82516245e-01\n",
      "   3.15011078e-01 -5.56559523e-02 -5.84010247e-02 -1.02186386e-01\n",
      "  -1.07531080e-01  1.01658978e-01]\n",
      " [ 2.06362656e-01  1.92312595e-01  2.51185131e-01  2.12956816e-01\n",
      "   3.19504817e-01  7.40022356e-01  6.71458893e-01  4.91287673e-01\n",
      "   4.22401505e-01  5.60822319e-01  3.56691450e-01  2.32107621e-01\n",
      "   4.17055330e-01  2.85341536e-01  3.37288855e-01  1.00176056e+00\n",
      "   8.02679026e-01  7.45392672e-01  3.95407752e-01  8.04683023e-01\n",
      "   2.04967390e-01  1.43254348e-01  2.60974494e-01  1.99722335e-01\n",
      "   2.27794574e-01  6.79975390e-01  6.40271956e-01  4.84059046e-01\n",
      "   2.78367653e-01  5.92013208e-01]\n",
      " [ 1.94545531e-01  1.43545353e-01  2.28483899e-01  2.08025659e-01\n",
      "   2.48832996e-01  5.71521303e-01  6.92487233e-01  4.39940250e-01\n",
      "   3.43230240e-01  4.47416643e-01  3.32942674e-01  1.95341772e-01\n",
      "   3.63119754e-01  2.71371654e-01  2.69157796e-01  8.02679026e-01\n",
      "   1.00176056e+00  7.73162805e-01  3.09973347e-01  7.28652769e-01\n",
      "   1.87232571e-01  1.00417464e-01  2.27079511e-01  1.88684259e-01\n",
      "   1.68777943e-01  4.85711424e-01  6.63730620e-01  4.41247742e-01\n",
      "   1.98136040e-01  4.40102736e-01]\n",
      " [ 3.76831225e-01  1.64139495e-01  4.07933847e-01  3.72975776e-01\n",
      "   3.81345895e-01  6.43392594e-01  6.84462839e-01  6.16717994e-01\n",
      "   3.93990298e-01  3.41798745e-01  5.14250220e-01  2.30688828e-01\n",
      "   5.57243422e-01  4.16461487e-01  3.29007720e-01  7.45392672e-01\n",
      "   7.73162805e-01  1.00176056e+00  3.13330893e-01  6.12119921e-01\n",
      "   3.58757174e-01  8.68939233e-02  3.95694673e-01  3.42873752e-01\n",
      "   2.15729735e-01  4.53685716e-01  5.50559967e-01  6.03510257e-01\n",
      "   1.43367633e-01  3.11201479e-01]\n",
      " [-1.04504545e-01  9.14323671e-03 -8.17730406e-02 -7.26242231e-02\n",
      "   2.01127852e-01  2.30381479e-01  1.78322604e-01  9.55186580e-02\n",
      "   4.49927276e-01  3.45614805e-01  2.40990897e-01  4.12345364e-01\n",
      "   2.66956259e-01  1.34345087e-01  4.14234129e-01  3.95407752e-01\n",
      "   3.09973347e-01  3.13330893e-01  1.00176056e+00  3.69727869e-01\n",
      "  -1.28346334e-01 -7.76098171e-02 -1.03935708e-01 -1.10537008e-01\n",
      "  -1.26840915e-02  6.03609620e-02  3.71843990e-02 -3.04669411e-02\n",
      "   3.90088053e-01  7.82169401e-02]\n",
      " [-4.27163418e-02  5.45533955e-02 -5.53311534e-03 -1.99219755e-02\n",
      "   2.84106006e-01  5.08211293e-01  4.50091771e-01  2.58037239e-01\n",
      "   3.32370277e-01  6.89343077e-01  2.28154507e-01  2.80215217e-01\n",
      "   2.44572602e-01  1.27294619e-01  4.28126626e-01  8.04683023e-01\n",
      "   7.28652769e-01  6.12119921e-01  3.69727869e-01  1.00176056e+00\n",
      "  -3.75536172e-02 -3.20065392e-03 -1.00215889e-03 -2.27761757e-02\n",
      "   1.70868612e-01  3.90845741e-01  3.80643631e-01  2.15582894e-01\n",
      "   1.11289544e-01  5.92369136e-01]\n",
      " [ 9.71245907e-01  3.53193674e-01  9.71183188e-01  9.64441062e-01\n",
      "   2.13495353e-01  5.36257855e-01  6.89448091e-01  8.31779458e-01\n",
      "   1.86054739e-01 -2.54138135e-01  7.16324113e-01 -1.11886951e-01\n",
      "   6.98428059e-01  7.58706592e-01 -2.31096855e-01  2.04967390e-01\n",
      "   1.87232571e-01  3.58757174e-01 -1.28346334e-01 -3.75536172e-02\n",
      "   1.00176056e+00  3.60554418e-01  9.95457402e-01  9.85746984e-01\n",
      "   2.16955724e-01  4.76657749e-01  5.74985227e-01  7.88810161e-01\n",
      "   2.43957953e-01  9.36565772e-02]\n",
      " [ 2.97530545e-01  9.13650301e-01  3.03571890e-01  2.87994769e-01\n",
      "   3.61353055e-02  2.48569687e-01  3.00406844e-01  2.93267121e-01\n",
      "   9.08102844e-02 -5.13594647e-02  1.95141512e-01  4.09722842e-01\n",
      "   2.00723620e-01  1.96842594e-01 -7.48745546e-02  1.43254348e-01\n",
      "   1.00417464e-01  8.68939233e-02 -7.76098171e-02 -3.20065392e-03\n",
      "   3.60554418e-01  1.00176056e+00  3.65741024e-01  3.46451160e-01\n",
      "   2.25826298e-01  3.61467607e-01  3.69014138e-01  3.60387980e-01\n",
      "   2.33437721e-01  2.19508204e-01]\n",
      " [ 9.66835698e-01  3.58669926e-01  9.72095315e-01  9.60808165e-01\n",
      "   2.39273141e-01  5.91249531e-01  7.30849362e-01  8.57430035e-01\n",
      "   2.19554419e-01 -2.05512393e-01  7.20950853e-01 -1.02421925e-01\n",
      "   7.22300731e-01  7.62552799e-01 -2.17686332e-01  2.60974494e-01\n",
      "   2.27079511e-01  3.95694673e-01 -1.03935708e-01 -1.00215889e-03\n",
      "   9.95457402e-01  3.65741024e-01  1.00176056e+00  9.79299180e-01\n",
      "   2.37191461e-01  5.30339746e-01  6.19432713e-01  8.17759288e-01\n",
      "   2.69967228e-01  1.39201504e-01]\n",
      " [ 9.42739295e-01  3.44150782e-01  9.43207466e-01  9.60902082e-01\n",
      "   2.07082304e-01  5.10500995e-01  6.77177350e-01  8.11055024e-01\n",
      "   1.77505338e-01 -2.32262646e-01  7.52871625e-01 -8.33414586e-02\n",
      "   7.31999440e-01  8.12836496e-01 -1.82516245e-01  1.99722335e-01\n",
      "   1.88684259e-01  3.42873752e-01 -1.10537008e-01 -2.27761757e-02\n",
      "   9.85746984e-01  3.46451160e-01  9.79299180e-01  1.00176056e+00\n",
      "   2.09513547e-01  4.39067932e-01  5.44287093e-01  7.48734680e-01\n",
      "   2.09513722e-01  7.97872577e-02]\n",
      " [ 1.19826732e-01  7.76398084e-02  1.50814456e-01  1.23740409e-01\n",
      "   8.06742020e-01  5.66536837e-01  4.49612218e-01  4.53550155e-01\n",
      "   4.27426215e-01  5.05831058e-01  1.42168410e-01 -7.37873381e-02\n",
      "   1.30283361e-01  1.25610187e-01  3.15011078e-01  2.27794574e-01\n",
      "   1.68777943e-01  2.15729735e-01 -1.26840915e-02  1.70868612e-01\n",
      "   2.16955724e-01  2.25826298e-01  2.37191461e-01  2.09513547e-01\n",
      "   1.00176056e+00  5.69186845e-01  5.19436186e-01  5.48655147e-01\n",
      "   4.94707764e-01  6.18711558e-01]\n",
      " [ 4.14190751e-01  2.78318729e-01  4.56576647e-01  3.91097651e-01\n",
      "   4.73300254e-01  8.67333351e-01  7.56297185e-01  6.68628771e-01\n",
      "   4.74033112e-01  4.59605900e-01  2.87608629e-01 -9.26020990e-02\n",
      "   3.42521416e-01  2.83755229e-01 -5.56559523e-02  6.79975390e-01\n",
      "   4.85711424e-01  4.53685716e-01  6.03609620e-02  3.90845741e-01\n",
      "   4.76657749e-01  3.61467607e-01  5.30339746e-01  4.39067932e-01\n",
      "   5.69186845e-01  1.00176056e+00  8.93831781e-01  8.02490717e-01\n",
      "   6.15522263e-01  8.11881713e-01]\n",
      " [ 5.27839123e-01  3.01555198e-01  5.64872009e-01  5.13508396e-01\n",
      "   4.35691429e-01  8.17712354e-01  8.85659158e-01  7.53724145e-01\n",
      "   4.34484601e-01  3.46843443e-01  3.81254678e-01 -6.90776223e-02\n",
      "   4.19636314e-01  3.85778129e-01 -5.84010247e-02  6.40271956e-01\n",
      "   6.63730620e-01  5.50559967e-01  3.71843990e-02  3.80643631e-01\n",
      "   5.74985227e-01  3.69014138e-01  6.19432713e-01  5.44287093e-01\n",
      "   5.19436186e-01  8.93831781e-01  1.00176056e+00  8.56939906e-01\n",
      "   5.33457264e-01  6.87719567e-01]\n",
      " [ 7.45524434e-01  2.95835766e-01  7.72598608e-01  7.23287782e-01\n",
      "   5.03939011e-01  8.17009092e-01  8.62839447e-01  9.11757700e-01\n",
      "   4.31054176e-01  1.75634121e-01  5.31997297e-01 -1.19848153e-01\n",
      "   5.55874162e-01  5.39113790e-01 -1.02186386e-01  4.84059046e-01\n",
      "   4.41247742e-01  6.03510257e-01 -3.04669411e-02  2.15582894e-01\n",
      "   7.88810161e-01  3.60387980e-01  8.17759288e-01  7.48734680e-01\n",
      "   5.48655147e-01  8.02490717e-01  8.56939906e-01  1.00176056e+00\n",
      "   5.03413227e-01  5.12013995e-01]\n",
      " [ 1.64241985e-01  1.05192783e-01  1.89447989e-01  1.43822678e-01\n",
      "   3.95003689e-01  5.11121711e-01  4.10185014e-01  3.76405667e-01\n",
      "   7.01057885e-01  3.34606745e-01  9.47092790e-02 -1.28440488e-01\n",
      "   1.10123974e-01  7.42567956e-02 -1.07531080e-01  2.78367653e-01\n",
      "   1.98136040e-01  1.43367633e-01  3.90088053e-01  1.11289544e-01\n",
      "   2.43957953e-01  2.33437721e-01  2.69967228e-01  2.09513722e-01\n",
      "   4.94707764e-01  6.15522263e-01  5.33457264e-01  5.03413227e-01\n",
      "   1.00176056e+00  5.38795122e-01]\n",
      " [ 7.07832563e-03  1.19415220e-01  5.11083511e-02  3.74417763e-03\n",
      "   5.00195447e-01  6.88592503e-01  5.15836457e-01  3.69310185e-01\n",
      "   4.39185353e-01  7.68647654e-01  4.96466850e-02 -4.57349464e-02\n",
      "   8.55829815e-02  1.75701742e-02  1.01658978e-01  5.92013208e-01\n",
      "   4.40102736e-01  3.11201479e-01  7.82169401e-02  5.92369136e-01\n",
      "   9.36565772e-02  2.19508204e-01  1.39201504e-01  7.97872577e-02\n",
      "   6.18711558e-01  8.11881713e-01  6.87719567e-01  5.12013995e-01\n",
      "   5.38795122e-01  1.00176056e+00]]\n"
     ]
    }
   ],
   "source": [
    "cov_matrix = np.cov(scaled_data, rowvar=False)\n",
    "eigenvalues, eigenvectors = np.linalg.eig(cov_matrix)\n",
    "print(cov_matrix)"
   ]
  },
  {
   "cell_type": "code",
   "execution_count": 21,
   "metadata": {},
   "outputs": [],
   "source": [
    "eig_pairs = [(eigenvalues[i], eigenvectors[:, i]) for i in range(len(eigenvalues))]\n",
    "eig_pairs.sort(reverse=True, key=lambda x: x[0])"
   ]
  },
  {
   "cell_type": "code",
   "execution_count": 22,
   "metadata": {},
   "outputs": [
    {
     "name": "stdout",
     "output_type": "stream",
     "text": [
      "[[ 9.19283683e+00  1.94858307e+00 -1.12316616e+00 ...  3.39144536e-02\n",
      "   4.56477199e-02 -4.71692081e-02]\n",
      " [ 2.38780180e+00 -3.76817174e+00 -5.29292687e-01 ... -3.26241827e-02\n",
      "  -5.68742432e-03 -1.86787626e-03]\n",
      " [ 5.73389628e+00 -1.07517380e+00 -5.51747593e-01 ... -4.70258247e-02\n",
      "   3.14589659e-03  7.50534755e-04]\n",
      " ...\n",
      " [ 1.25617928e+00 -1.90229671e+00  5.62730526e-01 ...  2.57775589e-03\n",
      "   6.70621179e-03  3.77041667e-03]\n",
      " [ 1.03747941e+01  1.67201011e+00 -1.87702933e+00 ...  6.80863833e-02\n",
      "  -8.41632764e-02 -2.37828222e-02]\n",
      " [-5.47524330e+00 -6.70636791e-01  1.49044308e+00 ...  9.51587894e-03\n",
      "  -6.09131090e-02 -1.94755854e-02]]\n"
     ]
    }
   ],
   "source": [
    "projection_matrix = np.column_stack([eig_pairs[i][1] for i in range(30)])\n",
    "reduced_data = scaled_data.dot(projection_matrix)\n",
    "print(reduced_data)"
   ]
  },
  {
   "cell_type": "markdown",
   "metadata": {},
   "source": [
    "The values in the projection matrix represent the weights or loadings of each original feature in the corresponding principal component. "
   ]
  },
  {
   "cell_type": "code",
   "execution_count": 23,
   "metadata": {},
   "outputs": [],
   "source": [
    "projection_matrix = np.column_stack([eig_pairs[i][1] for i in range(30)])\n",
    "reduced_data = scaled_data.dot(projection_matrix)\n"
   ]
  },
  {
   "cell_type": "code",
   "execution_count": 24,
   "metadata": {},
   "outputs": [],
   "source": [
    "explained_variance = eigenvalues / np.sum(eigenvalues)"
   ]
  },
  {
   "cell_type": "markdown",
   "metadata": {},
   "source": [
    "# PCA Visualization"
   ]
  },
  {
   "cell_type": "code",
   "execution_count": 25,
   "metadata": {},
   "outputs": [
    {
     "data": {
      "image/png": "[encoded data removed]",
      "text/plain": [
       "<Figure size 720x360 with 1 Axes>"
      ]
     },
     "metadata": {
      "needs_background": "light"
     },
     "output_type": "display_data"
    }
   ],
   "source": [
    "# Create a scree plot\n",
    "plt.figure(figsize=(10, 5))\n",
    "plt.subplot(1, 2, 1)\n",
    "plt.bar(range(1, len(explained_variance) + 1), explained_variance)\n",
    "plt.xlabel('Principal Component')\n",
    "plt.ylabel('Explained Variance')\n",
    "plt.title('Scree Plot')\n",
    "plt.grid()\n",
    "plt.show()\n"
   ]
  },
  {
   "cell_type": "code",
   "execution_count": 26,
   "metadata": {},
   "outputs": [
    {
     "data": {
      "text/plain": [
       "Text(0, 0.5, 'Second Principal Component')"
      ]
     },
     "execution_count": 26,
     "metadata": {},
     "output_type": "execute_result"
    },
    {
     "data": {
      "image/png": "[encoded data removed]",
      "text/plain": [
       "<Figure size 576x432 with 2 Axes>"
      ]
     },
     "metadata": {
      "needs_background": "light"
     },
     "output_type": "display_data"
    }
   ],
   "source": [
    "plt.figure(figsize=(8,6))\n",
    "plt.scatter(x_pca[:,0],x_pca[:,1],c=cancer['target'],cmap='plasma')\n",
    "plt.colorbar(label='Class (0: Benign, 1: Malignant)')\n",
    "plt.xlabel('First principal component')\n",
    "plt.ylabel('Second Principal Component')"
   ]
  }
 ],
 "metadata": {
  "kernelspec": {
   "display_name": "Python 3",
   "language": "python",
   "name": "python3"
  },
  "language_info": {
   "codemirror_mode": {
    "name": "ipython",
    "version": 3
   },
   "file_extension": ".py",
   "mimetype": "text/x-python",
   "name": "python",
   "nbconvert_exporter": "python",
   "pygments_lexer": "ipython3",
   "version": "3.8.3"
  }
 },
 "nbformat": 4,
 "nbformat_minor": 1
}
